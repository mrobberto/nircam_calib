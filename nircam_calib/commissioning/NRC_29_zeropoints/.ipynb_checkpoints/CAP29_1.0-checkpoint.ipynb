{
 "cells": [
  {
   "cell_type": "markdown",
   "id": "religious-freeze",
   "metadata": {},
   "source": [
    "# CAR 29 - Data Analysis Notebook (CAP 29)"
   ]
  },
  {
   "cell_type": "markdown",
   "id": "intended-raleigh",
   "metadata": {},
   "source": [
    "## V1.1 - May 12, 2021 - M. Robberto"
   ]
  },
  {
   "cell_type": "markdown",
   "id": "western-yesterday",
   "metadata": {},
   "source": [
    "This notebook contains the script to be used to process the data relative to CAR 29 - Absolute Photometry\n",
    "\n",
    "It implements the following steps:\n",
    "\n",
    "1) Dowload of calibrated data from the MAST archive\n",
    "\n",
    "2) Measure of photometry\n",
    "\n",
    "3) Derivation of the Zero Points"
   ]
  },
  {
   "cell_type": "code",
   "execution_count": 1,
   "id": "northern-queen",
   "metadata": {},
   "outputs": [],
   "source": [
    "Proposal_ID = 1074 # according to https://outerspace.stsci.edu/display/JN/NIRCam+Commissioning+Analysis+Plans+and+Reports"
   ]
  },
  {
   "cell_type": "markdown",
   "id": "living-blowing",
   "metadata": {},
   "source": [
    "## Part 1. Download the Calibrated Files from MAST (based on R. Shaw notebook)"
   ]
  },
  {
   "cell_type": "markdown",
   "id": "accepting-profession",
   "metadata": {},
   "source": [
    "This part follows the instructions originally provided in the notebook \"Find JWST L-1b Files Using Astroquery.ipynb\" by Rick Shaw"
   ]
  },
  {
   "cell_type": "markdown",
   "id": "spiritual-badge",
   "metadata": {},
   "source": [
    "### Setup"
   ]
  },
  {
   "cell_type": "markdown",
   "id": "ecological-individual",
   "metadata": {},
   "source": [
    "Begin by importing the necessary libraries. This tutorial requires a recent version of astroquery (0.4.2). The code below makes use of a couple of global variables."
   ]
  },
  {
   "cell_type": "code",
   "execution_count": 2,
   "id": "genuine-policy",
   "metadata": {},
   "outputs": [],
   "source": [
    "from astroquery.mast import Mast\n",
    "from astropy import table\n",
    "from astropy.time import Time\n",
    "import numpy as np\n",
    "\n",
    "RET_COLUMNS = ['proposal_id','dataURL','obsid','obs_id']\n",
    "SERVICES = {\n",
    "            'SI_search': 'Mast.Jwst.Filtered.',\n",
    "            'Caom_search':'Mast.Caom.Filtered.JwstOps',\n",
    "            'Product_search':'Mast.Caom.Products.JwstOps'\n",
    "            }"
   ]
  },
  {
   "cell_type": "markdown",
   "id": "important-peoples",
   "metadata": {},
   "source": [
    "### Helper Functions"
   ]
  },
  {
   "cell_type": "markdown",
   "id": "polar-sending",
   "metadata": {},
   "source": [
    "1) Note the updated (as of DMS build 7.5.1) server name and web service endpoints.\n",
    "\n",
    "2) Be aware that after launch the script will need to be modified to point to Operational MAST, rather than the special JWST pre-launch environment.\n",
    " "
   ]
  },
  {
   "cell_type": "code",
   "execution_count": 3,
   "id": "minus-facility",
   "metadata": {},
   "outputs": [],
   "source": [
    "def set_server_endpoints():\n",
    "    '''\n",
    "    Set server and web service endpoints for astroquery\n",
    "    '''\n",
    "    server = 'https://mast.stsci.edu'\n",
    "    JwstObs = Mast()\n",
    "    JwstObs._portal_api_connection.MAST_REQUEST_URL = server + \"/portal_jwst/Mashup/Mashup.asmx/invoke\"\n",
    "    JwstObs._portal_api_connection.MAST_DOWNLOAD_URL = server + \"/jwst/api/v0.1/download/file\"\n",
    "    JwstObs._portal_api_connection.COLUMNS_CONFIG_URL = server + \"/portal_jwst/Mashup/Mashup.asmx/columnsconfig\"\n",
    "    JwstObs._portal_api_connection.MAST_BUNDLE_URL = server + \"/jwst/api/v0.1/download/bundle\"\n",
    "    return JwstObs"
   ]
  },
  {
   "cell_type": "markdown",
   "id": "labeled-alliance",
   "metadata": {},
   "source": [
    "The observation_query function is analogous to the Portal \"Advanced Search\" for observations."
   ]
  },
  {
   "cell_type": "code",
   "execution_count": 4,
   "id": "professional-celtic",
   "metadata": {},
   "outputs": [],
   "source": [
    "def observation_query(JwstObs, progID, instrument, mjd_min):\n",
    "    '''\n",
    "    Perform query for observations matching JWST instrument and program ID\n",
    "    that began after a particular date.\n",
    "    '''\n",
    "    columns = ','.join(RET_COLUMNS)\n",
    "    service = SERVICES['Caom_search']\n",
    "    params = {\"columns\":columns,\n",
    "              \"filters\":[\n",
    "                  {\"paramName\":\"obs_collection\",\"values\":[\"JWST\"]},\n",
    "                  {\"paramName\":\"instrument_name\",\"values\":[instrument]},\n",
    "                  {\"paramName\":\"proposal_id\",\"values\":[progID]},\n",
    "                  {\"paramName\":\"t_min\",\n",
    "                    \"values\":[{\"min\":mjd_min,\"max\":mjd_min+60.}]},\n",
    "              ]}\n",
    "    obsTable = JwstObs.service_request(service, params)\n",
    "    return obsTable"
   ]
  },
  {
   "cell_type": "markdown",
   "id": "animal-newark",
   "metadata": {},
   "source": [
    "Once matching observations are found, query for the underlying data products associated with each observation."
   ]
  },
  {
   "cell_type": "code",
   "execution_count": 5,
   "id": "informal-asbestos",
   "metadata": {},
   "outputs": [],
   "source": [
    "def product_query(JwstObs, obsTable):\n",
    "    '''\n",
    "    Perform query for data products based on obs_id's in observation table\n",
    "    '''\n",
    "    obs_ids = ','.join(obsTable['obsid'])\n",
    "    service = SERVICES['Product_search']\n",
    "    params = {\"obsid\":obs_ids,\n",
    "              \"format\":\"json\"\n",
    "              }\n",
    "    productTable = JwstObs.service_request(service, params)\n",
    "    return productTable"
   ]
  },
  {
   "cell_type": "markdown",
   "id": "dutch-nirvana",
   "metadata": {},
   "source": [
    "Given a table of products, filter on the product names to select uncalibrated files. The associated guide-star observations may optionally be excluded. This is analogous to selecting data files in the Portal download manager."
   ]
  },
  {
   "cell_type": "code",
   "execution_count": 6,
   "id": "extraordinary-nomination",
   "metadata": {},
   "outputs": [],
   "source": [
    "def product_filter(table, prodList, gs_omit=True):\n",
    "    '''\n",
    "    Filter the list of products based on product semantic type\n",
    "    '''\n",
    "    mask = np.full(len(table), False)\n",
    "    gs_text = '_gs-'\n",
    "    for r in table:\n",
    "        mk = False\n",
    "        fileName = r['productFilename']\n",
    "        for p in prodList:\n",
    "            if p in fileName:\n",
    "                mk = mk | True\n",
    "                if gs_text in fileName:\n",
    "                    mk = not gs_omit\n",
    "    \n",
    "        mask[r.index] = mk\n",
    "    \n",
    "    return mask"
   ]
  },
  {
   "cell_type": "markdown",
   "id": "quick-ebony",
   "metadata": {},
   "source": [
    "The matching L-1b files may be fetched from the archive. Note that this call will download a bash script, which when run will negotiate the authentication and retrieve the selected files with cURL."
   ]
  },
  {
   "cell_type": "code",
   "execution_count": 7,
   "id": "friendly-horizon",
   "metadata": {},
   "outputs": [],
   "source": [
    "def fetch_products(JwstObs, product_table):\n",
    "    '''\n",
    "    Retrieve specified data products from the MAST web service\n",
    "    '''\n",
    "    uri_list_str = '&'.join([\"uri=\" + x for x in product_table[\"dataURI\"]])\n",
    "    now_str = ''.join(str(x).zfill(2) for x in Time.now().ymdhms).split('.')[0]\n",
    "    local_path = 'mastDownload_' + now_str + '.sh'\n",
    "    download_url = JwstObs._portal_api_connection.MAST_BUNDLE_URL + \".sh?\" + uri_list_str\n",
    "    JwstObs._download_file(download_url, local_path)"
   ]
  },
  {
   "cell_type": "markdown",
   "id": "expressed-estonia",
   "metadata": {},
   "source": [
    "### Execute the Search"
   ]
  },
  {
   "cell_type": "markdown",
   "id": "architectural-vocabulary",
   "metadata": {},
   "source": [
    "Here are some example search criteria, in this case for NIRCam observations from program 772 taken on or after 2020 Aug 17. To keep the results table small we exclude guide-star data."
   ]
  },
  {
   "cell_type": "code",
   "execution_count": 8,
   "id": "available-marathon",
   "metadata": {},
   "outputs": [],
   "source": [
    "progID = '00772'\n",
    "instrument = 'Nircam'\n",
    "date_str = '2020-08-17'\n",
    "start_date = Time(date_str, format='iso').mjd\n",
    "gs_omit = True\n",
    "download = False"
   ]
  },
  {
   "cell_type": "markdown",
   "id": "suspended-savings",
   "metadata": {},
   "source": [
    "Search for Observations that match the above criteria."
   ]
  },
  {
   "cell_type": "code",
   "execution_count": 9,
   "id": "retained-medicaid",
   "metadata": {},
   "outputs": [],
   "source": [
    "JwstObs = set_server_endpoints()\n",
    "obsTable = observation_query(JwstObs, progID, instrument, start_date)"
   ]
  },
  {
   "cell_type": "markdown",
   "id": "administrative-incident",
   "metadata": {},
   "source": [
    "f the search returns observation rows, proceed with the product query."
   ]
  },
  {
   "cell_type": "code",
   "execution_count": 10,
   "id": "everyday-forwarding",
   "metadata": {},
   "outputs": [
    {
     "name": "stdout",
     "output_type": "stream",
     "text": [
      "   jw00772368001_02102_00001_nrca1_uncal.fits\n",
      "   jw00772368001_02102_00001_nrca2_uncal.fits\n",
      "   jw00772368001_02102_00001_nrca3_uncal.fits\n",
      "   jw00772368001_02102_00001_nrca4_uncal.fits\n",
      "jw00772368001_02102_00001_nrcalong_uncal.fits\n",
      "   jw00772368001_02102_00002_nrca1_uncal.fits\n",
      "   jw00772368001_02102_00002_nrca2_uncal.fits\n",
      "   jw00772368001_02102_00002_nrca3_uncal.fits\n",
      "   jw00772368001_02102_00002_nrca4_uncal.fits\n",
      "jw00772368001_02102_00002_nrcalong_uncal.fits\n",
      "   jw00772368001_02102_00003_nrca1_uncal.fits\n",
      "   jw00772368001_02102_00003_nrca2_uncal.fits\n",
      "   jw00772368001_02102_00003_nrca3_uncal.fits\n",
      "   jw00772368001_02102_00003_nrca4_uncal.fits\n",
      "jw00772368001_02102_00003_nrcalong_uncal.fits\n",
      "   jw00772368001_02104_00001_nrca1_uncal.fits\n",
      "   jw00772368001_02104_00001_nrca2_uncal.fits\n",
      "   jw00772368001_02104_00001_nrca3_uncal.fits\n",
      "   jw00772368001_02104_00001_nrca4_uncal.fits\n",
      "jw00772368001_02104_00001_nrcalong_uncal.fits\n",
      "   jw00772368001_02104_00002_nrca1_uncal.fits\n",
      "   jw00772368001_02104_00002_nrca2_uncal.fits\n",
      "   jw00772368001_02104_00002_nrca3_uncal.fits\n",
      "   jw00772368001_02104_00002_nrca4_uncal.fits\n",
      "jw00772368001_02104_00002_nrcalong_uncal.fits\n",
      "   jw00772368001_02104_00003_nrca1_uncal.fits\n",
      "   jw00772368001_02104_00003_nrca2_uncal.fits\n",
      "   jw00772368001_02104_00003_nrca3_uncal.fits\n",
      "   jw00772368001_02104_00003_nrca4_uncal.fits\n",
      "jw00772368001_02104_00003_nrcalong_uncal.fits\n",
      "   jw00772369001_02101_00001_nrca1_uncal.fits\n",
      "   jw00772369001_02101_00001_nrca2_uncal.fits\n",
      "   jw00772369001_02101_00001_nrca3_uncal.fits\n",
      "   jw00772369001_02101_00001_nrca4_uncal.fits\n",
      "jw00772369001_02101_00001_nrcalong_uncal.fits\n",
      "   jw00772369001_02103_00001_nrca1_uncal.fits\n",
      "   jw00772369001_02103_00001_nrca2_uncal.fits\n",
      "   jw00772369001_02103_00001_nrca3_uncal.fits\n",
      "   jw00772369001_02103_00001_nrca4_uncal.fits\n",
      "jw00772369001_02103_00001_nrcalong_uncal.fits\n",
      "   jw00772369001_02105_00001_nrca1_uncal.fits\n",
      "   jw00772369001_02105_00001_nrca2_uncal.fits\n",
      "   jw00772369001_02105_00001_nrca3_uncal.fits\n",
      "   jw00772369001_02105_00001_nrca4_uncal.fits\n",
      "jw00772369001_02105_00001_nrcalong_uncal.fits\n",
      "   jw00772369001_02107_00001_nrca1_uncal.fits\n",
      "   jw00772369001_02107_00001_nrca2_uncal.fits\n",
      "   jw00772369001_02107_00001_nrca3_uncal.fits\n",
      "   jw00772369001_02107_00001_nrca4_uncal.fits\n",
      "jw00772369001_02107_00001_nrcalong_uncal.fits\n",
      "   jw00772369001_02109_00001_nrca1_uncal.fits\n",
      "   jw00772369001_02109_00001_nrca2_uncal.fits\n",
      "   jw00772369001_02109_00001_nrca3_uncal.fits\n",
      "   jw00772369001_02109_00001_nrca4_uncal.fits\n",
      "jw00772369001_02109_00001_nrcalong_uncal.fits\n",
      "   jw00772369001_0210b_00001_nrca1_uncal.fits\n",
      "   jw00772369001_0210b_00001_nrca2_uncal.fits\n",
      "   jw00772369001_0210b_00001_nrca3_uncal.fits\n",
      "   jw00772369001_0210b_00001_nrca4_uncal.fits\n",
      "jw00772369001_0210b_00001_nrcalong_uncal.fits\n",
      "   jw00772369001_0210d_00001_nrca1_uncal.fits\n",
      "   jw00772369001_0210d_00001_nrca2_uncal.fits\n",
      "   jw00772369001_0210d_00001_nrca3_uncal.fits\n",
      "   jw00772369001_0210d_00001_nrca4_uncal.fits\n",
      "jw00772369001_0210d_00001_nrcalong_uncal.fits\n",
      "   jw00772369001_0210f_00001_nrca1_uncal.fits\n",
      "   jw00772369001_0210f_00001_nrca2_uncal.fits\n",
      "   jw00772369001_0210f_00001_nrca3_uncal.fits\n",
      "   jw00772369001_0210f_00001_nrca4_uncal.fits\n",
      "jw00772369001_0210f_00001_nrcalong_uncal.fits\n",
      "   jw00772369001_0210h_00001_nrca1_uncal.fits\n",
      "   jw00772369001_0210h_00001_nrca2_uncal.fits\n",
      "   jw00772369001_0210h_00001_nrca3_uncal.fits\n",
      "   jw00772369001_0210h_00001_nrca4_uncal.fits\n",
      "jw00772369001_0210h_00001_nrcalong_uncal.fits\n",
      "   jw00772369001_0210j_00001_nrca1_uncal.fits\n",
      "   jw00772369001_0210j_00001_nrca2_uncal.fits\n",
      "   jw00772369001_0210j_00001_nrca3_uncal.fits\n",
      "   jw00772369001_0210j_00001_nrca4_uncal.fits\n",
      "jw00772369001_0210j_00001_nrcalong_uncal.fits\n"
     ]
    }
   ],
   "source": [
    "if len(obsTable) > 0:\n",
    "    products = product_query(JwstObs, obsTable)\n",
    "    mask = product_filter(products, ['_uncal.fits'], gs_omit)\n",
    "    selected_products = products[mask]\n",
    "    selected_products['productFilename'].pprint(max_lines=-1, show_name=False)\n",
    "    if (download):\n",
    "        fetch_products(JwstObs, selected_products)"
   ]
  },
  {
   "cell_type": "code",
   "execution_count": 11,
   "id": "limited-modem",
   "metadata": {},
   "outputs": [
    {
     "data": {
      "text/html": [
       "<i>Table masked=True length=80</i>\n",
       "<table id=\"table4824673416\" class=\"table-striped table-bordered table-condensed\">\n",
       "<thead><tr><th>obsID</th><th>obs_collection</th><th>obs_id</th><th>dataproduct_type</th><th>type</th><th>productType</th><th>productGroupDescription</th><th>productSubGroupDescription</th><th>productDocumentationURL</th><th>project</th><th>prvversion</th><th>proposal_id</th><th>dataURI</th><th>productFilename</th><th>description</th><th>size</th><th>parent_obsid</th><th>dataRights</th><th>calib_level</th></tr></thead>\n",
       "<thead><tr><th>str8</th><th>str4</th><th>str43</th><th>str8</th><th>str1</th><th>str9</th><th>str28</th><th>str11</th><th>str1</th><th>str7</th><th>str6</th><th>str5</th><th>str75</th><th>str57</th><th>str64</th><th>str9</th><th>str8</th><th>str16</th><th>int64</th></tr></thead>\n",
       "<tr><td>55728047</td><td>JWST</td><td>jw00772368001_02102_00001_nrca1</td><td>image</td><td>S</td><td>SCIENCE</td><td>Minimum Recommended Products</td><td>UNCAL</td><td>--</td><td>CALJWST</td><td>--</td><td>00772</td><td>mast:JWST/product/jw00772368001_02102_00001_nrca1_uncal.fits</td><td>jw00772368001_02102_00001_nrca1_uncal.fits</td><td>exposure (L1b): Uncalibrated 4D exposure data</td><td>16433280</td><td>55728047</td><td>EXCLUSIVE_ACCESS</td><td>1</td></tr>\n",
       "<tr><td>55728098</td><td>JWST</td><td>jw00772368001_02102_00001_nrca2</td><td>image</td><td>S</td><td>SCIENCE</td><td>Minimum Recommended Products</td><td>UNCAL</td><td>--</td><td>CALJWST</td><td>--</td><td>00772</td><td>mast:JWST/product/jw00772368001_02102_00001_nrca2_uncal.fits</td><td>jw00772368001_02102_00001_nrca2_uncal.fits</td><td>exposure (L1b): Uncalibrated 4D exposure data</td><td>16433280</td><td>55728098</td><td>EXCLUSIVE_ACCESS</td><td>1</td></tr>\n",
       "<tr><td>55728217</td><td>JWST</td><td>jw00772368001_02102_00001_nrca3</td><td>image</td><td>S</td><td>SCIENCE</td><td>Minimum Recommended Products</td><td>UNCAL</td><td>--</td><td>CALJWST</td><td>--</td><td>00772</td><td>mast:JWST/product/jw00772368001_02102_00001_nrca3_uncal.fits</td><td>jw00772368001_02102_00001_nrca3_uncal.fits</td><td>exposure (L1b): Uncalibrated 4D exposure data</td><td>16433280</td><td>55728217</td><td>EXCLUSIVE_ACCESS</td><td>1</td></tr>\n",
       "<tr><td>55728168</td><td>JWST</td><td>jw00772368001_02102_00001_nrca4</td><td>image</td><td>S</td><td>SCIENCE</td><td>Minimum Recommended Products</td><td>UNCAL</td><td>--</td><td>CALJWST</td><td>--</td><td>00772</td><td>mast:JWST/product/jw00772368001_02102_00001_nrca4_uncal.fits</td><td>jw00772368001_02102_00001_nrca4_uncal.fits</td><td>exposure (L1b): Uncalibrated 4D exposure data</td><td>16433280</td><td>55728168</td><td>EXCLUSIVE_ACCESS</td><td>1</td></tr>\n",
       "<tr><td>55728151</td><td>JWST</td><td>jw00772368001_02102_00001_nrcalong</td><td>image</td><td>S</td><td>SCIENCE</td><td>--</td><td>UNCAL</td><td>--</td><td>CALJWST</td><td>--</td><td>00772</td><td>mast:JWST/product/jw00772368001_02102_00001_nrcalong_uncal.fits</td><td>jw00772368001_02102_00001_nrcalong_uncal.fits</td><td>exposure (L1b): Uncalibrated 4D exposure data</td><td>16433280</td><td>55729165</td><td>EXCLUSIVE_ACCESS</td><td>1</td></tr>\n",
       "<tr><td>55728100</td><td>JWST</td><td>jw00772368001_02102_00002_nrca1</td><td>image</td><td>S</td><td>SCIENCE</td><td>Minimum Recommended Products</td><td>UNCAL</td><td>--</td><td>CALJWST</td><td>--</td><td>00772</td><td>mast:JWST/product/jw00772368001_02102_00002_nrca1_uncal.fits</td><td>jw00772368001_02102_00002_nrca1_uncal.fits</td><td>exposure (L1b): Uncalibrated 4D exposure data</td><td>16433280</td><td>55728100</td><td>EXCLUSIVE_ACCESS</td><td>1</td></tr>\n",
       "<tr><td>55728166</td><td>JWST</td><td>jw00772368001_02102_00002_nrca2</td><td>image</td><td>S</td><td>SCIENCE</td><td>Minimum Recommended Products</td><td>UNCAL</td><td>--</td><td>CALJWST</td><td>--</td><td>00772</td><td>mast:JWST/product/jw00772368001_02102_00002_nrca2_uncal.fits</td><td>jw00772368001_02102_00002_nrca2_uncal.fits</td><td>exposure (L1b): Uncalibrated 4D exposure data</td><td>16433280</td><td>55728166</td><td>EXCLUSIVE_ACCESS</td><td>1</td></tr>\n",
       "<tr><td>55728251</td><td>JWST</td><td>jw00772368001_02102_00002_nrca3</td><td>image</td><td>S</td><td>SCIENCE</td><td>Minimum Recommended Products</td><td>UNCAL</td><td>--</td><td>CALJWST</td><td>--</td><td>00772</td><td>mast:JWST/product/jw00772368001_02102_00002_nrca3_uncal.fits</td><td>jw00772368001_02102_00002_nrca3_uncal.fits</td><td>exposure (L1b): Uncalibrated 4D exposure data</td><td>16433280</td><td>55728251</td><td>EXCLUSIVE_ACCESS</td><td>1</td></tr>\n",
       "<tr><td>55728209</td><td>JWST</td><td>jw00772368001_02102_00002_nrca4</td><td>image</td><td>S</td><td>SCIENCE</td><td>Minimum Recommended Products</td><td>UNCAL</td><td>--</td><td>CALJWST</td><td>--</td><td>00772</td><td>mast:JWST/product/jw00772368001_02102_00002_nrca4_uncal.fits</td><td>jw00772368001_02102_00002_nrca4_uncal.fits</td><td>exposure (L1b): Uncalibrated 4D exposure data</td><td>16433280</td><td>55728209</td><td>EXCLUSIVE_ACCESS</td><td>1</td></tr>\n",
       "<tr><td>55728344</td><td>JWST</td><td>jw00772368001_02102_00002_nrcalong</td><td>image</td><td>S</td><td>SCIENCE</td><td>--</td><td>UNCAL</td><td>--</td><td>CALJWST</td><td>--</td><td>00772</td><td>mast:JWST/product/jw00772368001_02102_00002_nrcalong_uncal.fits</td><td>jw00772368001_02102_00002_nrcalong_uncal.fits</td><td>exposure (L1b): Uncalibrated 4D exposure data</td><td>16433280</td><td>55729165</td><td>EXCLUSIVE_ACCESS</td><td>1</td></tr>\n",
       "<tr><td>...</td><td>...</td><td>...</td><td>...</td><td>...</td><td>...</td><td>...</td><td>...</td><td>...</td><td>...</td><td>...</td><td>...</td><td>...</td><td>...</td><td>...</td><td>...</td><td>...</td><td>...</td><td>...</td></tr>\n",
       "<tr><td>55728465</td><td>JWST</td><td>jw00772369001_0210h_00001_nrca1</td><td>image</td><td>S</td><td>SCIENCE</td><td>Minimum Recommended Products</td><td>UNCAL</td><td>--</td><td>CALJWST</td><td>--</td><td>00772</td><td>mast:JWST/product/jw00772369001_0210h_00001_nrca1_uncal.fits</td><td>jw00772369001_0210h_00001_nrca1_uncal.fits</td><td>exposure (L1b): Uncalibrated 4D exposure data</td><td>41993280</td><td>55728465</td><td>EXCLUSIVE_ACCESS</td><td>1</td></tr>\n",
       "<tr><td>55728517</td><td>JWST</td><td>jw00772369001_0210h_00001_nrca2</td><td>image</td><td>S</td><td>SCIENCE</td><td>Minimum Recommended Products</td><td>UNCAL</td><td>--</td><td>CALJWST</td><td>--</td><td>00772</td><td>mast:JWST/product/jw00772369001_0210h_00001_nrca2_uncal.fits</td><td>jw00772369001_0210h_00001_nrca2_uncal.fits</td><td>exposure (L1b): Uncalibrated 4D exposure data</td><td>41993280</td><td>55728517</td><td>EXCLUSIVE_ACCESS</td><td>1</td></tr>\n",
       "<tr><td>55728574</td><td>JWST</td><td>jw00772369001_0210h_00001_nrca3</td><td>image</td><td>S</td><td>SCIENCE</td><td>Minimum Recommended Products</td><td>UNCAL</td><td>--</td><td>CALJWST</td><td>--</td><td>00772</td><td>mast:JWST/product/jw00772369001_0210h_00001_nrca3_uncal.fits</td><td>jw00772369001_0210h_00001_nrca3_uncal.fits</td><td>exposure (L1b): Uncalibrated 4D exposure data</td><td>41993280</td><td>55728574</td><td>EXCLUSIVE_ACCESS</td><td>1</td></tr>\n",
       "<tr><td>55728404</td><td>JWST</td><td>jw00772369001_0210h_00001_nrca4</td><td>image</td><td>S</td><td>SCIENCE</td><td>Minimum Recommended Products</td><td>UNCAL</td><td>--</td><td>CALJWST</td><td>--</td><td>00772</td><td>mast:JWST/product/jw00772369001_0210h_00001_nrca4_uncal.fits</td><td>jw00772369001_0210h_00001_nrca4_uncal.fits</td><td>exposure (L1b): Uncalibrated 4D exposure data</td><td>41993280</td><td>55728404</td><td>EXCLUSIVE_ACCESS</td><td>1</td></tr>\n",
       "<tr><td>55728640</td><td>JWST</td><td>jw00772369001_0210h_00001_nrcalong</td><td>image</td><td>S</td><td>SCIENCE</td><td>--</td><td>UNCAL</td><td>--</td><td>CALJWST</td><td>--</td><td>00772</td><td>mast:JWST/product/jw00772369001_0210h_00001_nrcalong_uncal.fits</td><td>jw00772369001_0210h_00001_nrcalong_uncal.fits</td><td>exposure (L1b): Uncalibrated 4D exposure data</td><td>41993280</td><td>55729183</td><td>EXCLUSIVE_ACCESS</td><td>1</td></tr>\n",
       "<tr><td>55728671</td><td>JWST</td><td>jw00772369001_0210j_00001_nrca1</td><td>image</td><td>S</td><td>SCIENCE</td><td>Minimum Recommended Products</td><td>UNCAL</td><td>--</td><td>CALJWST</td><td>--</td><td>00772</td><td>mast:JWST/product/jw00772369001_0210j_00001_nrca1_uncal.fits</td><td>jw00772369001_0210j_00001_nrca1_uncal.fits</td><td>exposure (L1b): Uncalibrated 4D exposure data</td><td>41993280</td><td>55728671</td><td>EXCLUSIVE_ACCESS</td><td>1</td></tr>\n",
       "<tr><td>55728549</td><td>JWST</td><td>jw00772369001_0210j_00001_nrca2</td><td>image</td><td>S</td><td>SCIENCE</td><td>Minimum Recommended Products</td><td>UNCAL</td><td>--</td><td>CALJWST</td><td>--</td><td>00772</td><td>mast:JWST/product/jw00772369001_0210j_00001_nrca2_uncal.fits</td><td>jw00772369001_0210j_00001_nrca2_uncal.fits</td><td>exposure (L1b): Uncalibrated 4D exposure data</td><td>41993280</td><td>55728549</td><td>EXCLUSIVE_ACCESS</td><td>1</td></tr>\n",
       "<tr><td>55728461</td><td>JWST</td><td>jw00772369001_0210j_00001_nrca3</td><td>image</td><td>S</td><td>SCIENCE</td><td>Minimum Recommended Products</td><td>UNCAL</td><td>--</td><td>CALJWST</td><td>--</td><td>00772</td><td>mast:JWST/product/jw00772369001_0210j_00001_nrca3_uncal.fits</td><td>jw00772369001_0210j_00001_nrca3_uncal.fits</td><td>exposure (L1b): Uncalibrated 4D exposure data</td><td>41993280</td><td>55728461</td><td>EXCLUSIVE_ACCESS</td><td>1</td></tr>\n",
       "<tr><td>55728281</td><td>JWST</td><td>jw00772369001_0210j_00001_nrca4</td><td>image</td><td>S</td><td>SCIENCE</td><td>Minimum Recommended Products</td><td>UNCAL</td><td>--</td><td>CALJWST</td><td>--</td><td>00772</td><td>mast:JWST/product/jw00772369001_0210j_00001_nrca4_uncal.fits</td><td>jw00772369001_0210j_00001_nrca4_uncal.fits</td><td>exposure (L1b): Uncalibrated 4D exposure data</td><td>41993280</td><td>55728281</td><td>EXCLUSIVE_ACCESS</td><td>1</td></tr>\n",
       "<tr><td>55728379</td><td>JWST</td><td>jw00772369001_0210j_00001_nrcalong</td><td>image</td><td>S</td><td>SCIENCE</td><td>--</td><td>UNCAL</td><td>--</td><td>CALJWST</td><td>--</td><td>00772</td><td>mast:JWST/product/jw00772369001_0210j_00001_nrcalong_uncal.fits</td><td>jw00772369001_0210j_00001_nrcalong_uncal.fits</td><td>exposure (L1b): Uncalibrated 4D exposure data</td><td>41993280</td><td>55729183</td><td>EXCLUSIVE_ACCESS</td><td>1</td></tr>\n",
       "</table>"
      ],
      "text/plain": [
       "<Table masked=True length=80>\n",
       " obsID   obs_collection ...    dataRights    calib_level\n",
       "  str8        str4      ...      str16          int64   \n",
       "-------- -------------- ... ---------------- -----------\n",
       "55728047           JWST ... EXCLUSIVE_ACCESS           1\n",
       "55728098           JWST ... EXCLUSIVE_ACCESS           1\n",
       "55728217           JWST ... EXCLUSIVE_ACCESS           1\n",
       "55728168           JWST ... EXCLUSIVE_ACCESS           1\n",
       "55728151           JWST ... EXCLUSIVE_ACCESS           1\n",
       "55728100           JWST ... EXCLUSIVE_ACCESS           1\n",
       "55728166           JWST ... EXCLUSIVE_ACCESS           1\n",
       "55728251           JWST ... EXCLUSIVE_ACCESS           1\n",
       "55728209           JWST ... EXCLUSIVE_ACCESS           1\n",
       "55728344           JWST ... EXCLUSIVE_ACCESS           1\n",
       "     ...            ... ...              ...         ...\n",
       "55728465           JWST ... EXCLUSIVE_ACCESS           1\n",
       "55728517           JWST ... EXCLUSIVE_ACCESS           1\n",
       "55728574           JWST ... EXCLUSIVE_ACCESS           1\n",
       "55728404           JWST ... EXCLUSIVE_ACCESS           1\n",
       "55728640           JWST ... EXCLUSIVE_ACCESS           1\n",
       "55728671           JWST ... EXCLUSIVE_ACCESS           1\n",
       "55728549           JWST ... EXCLUSIVE_ACCESS           1\n",
       "55728461           JWST ... EXCLUSIVE_ACCESS           1\n",
       "55728281           JWST ... EXCLUSIVE_ACCESS           1\n",
       "55728379           JWST ... EXCLUSIVE_ACCESS           1"
      ]
     },
     "execution_count": 11,
     "metadata": {},
     "output_type": "execute_result"
    }
   ],
   "source": [
    "selected_products"
   ]
  },
  {
   "cell_type": "markdown",
   "id": "described-dollar",
   "metadata": {},
   "source": [
    "## Download using a bash Script to Retrieve Files (based on B. Hilber function)\n",
    "\n",
    "To use the download script introduced above, run it in a bash shell. **Note:** You need to be sure establish a MAST Auth token if you have not done so recently. See: https://auth.mast.stsci.edu/info "
   ]
  },
  {
   "cell_type": "code",
   "execution_count": 12,
   "id": "insured-diabetes",
   "metadata": {},
   "outputs": [
    {
     "name": "stdout",
     "output_type": "stream",
     "text": [
      "Downloading URL https://mast.stsci.edu/jwst/api/v0.1/download/bundle.sh?uri=mast:JWST/product/jw00772368001_02102_00001_nrca1_uncal.fits&uri=mast:JWST/product/jw00772368001_02102_00001_nrca2_uncal.fits&uri=mast:JWST/product/jw00772368001_02102_00001_nrca3_uncal.fits&uri=mast:JWST/product/jw00772368001_02102_00001_nrca4_uncal.fits&uri=mast:JWST/product/jw00772368001_02102_00001_nrcalong_uncal.fits&uri=mast:JWST/product/jw00772368001_02102_00002_nrca1_uncal.fits&uri=mast:JWST/product/jw00772368001_02102_00002_nrca2_uncal.fits&uri=mast:JWST/product/jw00772368001_02102_00002_nrca3_uncal.fits&uri=mast:JWST/product/jw00772368001_02102_00002_nrca4_uncal.fits&uri=mast:JWST/product/jw00772368001_02102_00002_nrcalong_uncal.fits&uri=mast:JWST/product/jw00772368001_02102_00003_nrca1_uncal.fits&uri=mast:JWST/product/jw00772368001_02102_00003_nrca2_uncal.fits&uri=mast:JWST/product/jw00772368001_02102_00003_nrca3_uncal.fits&uri=mast:JWST/product/jw00772368001_02102_00003_nrca4_uncal.fits&uri=mast:JWST/product/jw00772368001_02102_00003_nrcalong_uncal.fits&uri=mast:JWST/product/jw00772368001_02104_00001_nrca1_uncal.fits&uri=mast:JWST/product/jw00772368001_02104_00001_nrca2_uncal.fits&uri=mast:JWST/product/jw00772368001_02104_00001_nrca3_uncal.fits&uri=mast:JWST/product/jw00772368001_02104_00001_nrca4_uncal.fits&uri=mast:JWST/product/jw00772368001_02104_00001_nrcalong_uncal.fits&uri=mast:JWST/product/jw00772368001_02104_00002_nrca1_uncal.fits&uri=mast:JWST/product/jw00772368001_02104_00002_nrca2_uncal.fits&uri=mast:JWST/product/jw00772368001_02104_00002_nrca3_uncal.fits&uri=mast:JWST/product/jw00772368001_02104_00002_nrca4_uncal.fits&uri=mast:JWST/product/jw00772368001_02104_00002_nrcalong_uncal.fits&uri=mast:JWST/product/jw00772368001_02104_00003_nrca1_uncal.fits&uri=mast:JWST/product/jw00772368001_02104_00003_nrca2_uncal.fits&uri=mast:JWST/product/jw00772368001_02104_00003_nrca3_uncal.fits&uri=mast:JWST/product/jw00772368001_02104_00003_nrca4_uncal.fits&uri=mast:JWST/product/jw00772368001_02104_00003_nrcalong_uncal.fits&uri=mast:JWST/product/jw00772369001_02101_00001_nrca1_uncal.fits&uri=mast:JWST/product/jw00772369001_02101_00001_nrca2_uncal.fits&uri=mast:JWST/product/jw00772369001_02101_00001_nrca3_uncal.fits&uri=mast:JWST/product/jw00772369001_02101_00001_nrca4_uncal.fits&uri=mast:JWST/product/jw00772369001_02101_00001_nrcalong_uncal.fits&uri=mast:JWST/product/jw00772369001_02103_00001_nrca1_uncal.fits&uri=mast:JWST/product/jw00772369001_02103_00001_nrca2_uncal.fits&uri=mast:JWST/product/jw00772369001_02103_00001_nrca3_uncal.fits&uri=mast:JWST/product/jw00772369001_02103_00001_nrca4_uncal.fits&uri=mast:JWST/product/jw00772369001_02103_00001_nrcalong_uncal.fits&uri=mast:JWST/product/jw00772369001_02105_00001_nrca1_uncal.fits&uri=mast:JWST/product/jw00772369001_02105_00001_nrca2_uncal.fits&uri=mast:JWST/product/jw00772369001_02105_00001_nrca3_uncal.fits&uri=mast:JWST/product/jw00772369001_02105_00001_nrca4_uncal.fits&uri=mast:JWST/product/jw00772369001_02105_00001_nrcalong_uncal.fits&uri=mast:JWST/product/jw00772369001_02107_00001_nrca1_uncal.fits&uri=mast:JWST/product/jw00772369001_02107_00001_nrca2_uncal.fits&uri=mast:JWST/product/jw00772369001_02107_00001_nrca3_uncal.fits&uri=mast:JWST/product/jw00772369001_02107_00001_nrca4_uncal.fits&uri=mast:JWST/product/jw00772369001_02107_00001_nrcalong_uncal.fits&uri=mast:JWST/product/jw00772369001_02109_00001_nrca1_uncal.fits&uri=mast:JWST/product/jw00772369001_02109_00001_nrca2_uncal.fits&uri=mast:JWST/product/jw00772369001_02109_00001_nrca3_uncal.fits&uri=mast:JWST/product/jw00772369001_02109_00001_nrca4_uncal.fits&uri=mast:JWST/product/jw00772369001_02109_00001_nrcalong_uncal.fits&uri=mast:JWST/product/jw00772369001_0210b_00001_nrca1_uncal.fits&uri=mast:JWST/product/jw00772369001_0210b_00001_nrca2_uncal.fits&uri=mast:JWST/product/jw00772369001_0210b_00001_nrca3_uncal.fits&uri=mast:JWST/product/jw00772369001_0210b_00001_nrca4_uncal.fits&uri=mast:JWST/product/jw00772369001_0210b_00001_nrcalong_uncal.fits&uri=mast:JWST/product/jw00772369001_0210d_00001_nrca1_uncal.fits&uri=mast:JWST/product/jw00772369001_0210d_00001_nrca2_uncal.fits&uri=mast:JWST/product/jw00772369001_0210d_00001_nrca3_uncal.fits&uri=mast:JWST/product/jw00772369001_0210d_00001_nrca4_uncal.fits&uri=mast:JWST/product/jw00772369001_0210d_00001_nrcalong_uncal.fits&uri=mast:JWST/product/jw00772369001_0210f_00001_nrca1_uncal.fits&uri=mast:JWST/product/jw00772369001_0210f_00001_nrca2_uncal.fits&uri=mast:JWST/product/jw00772369001_0210f_00001_nrca3_uncal.fits&uri=mast:JWST/product/jw00772369001_0210f_00001_nrca4_uncal.fits&uri=mast:JWST/product/jw00772369001_0210f_00001_nrcalong_uncal.fits&uri=mast:JWST/product/jw00772369001_0210h_00001_nrca1_uncal.fits&uri=mast:JWST/product/jw00772369001_0210h_00001_nrca2_uncal.fits&uri=mast:JWST/product/jw00772369001_0210h_00001_nrca3_uncal.fits&uri=mast:JWST/product/jw00772369001_0210h_00001_nrca4_uncal.fits&uri=mast:JWST/product/jw00772369001_0210h_00001_nrcalong_uncal.fits&uri=mast:JWST/product/jw00772369001_0210j_00001_nrca1_uncal.fits&uri=mast:JWST/product/jw00772369001_0210j_00001_nrca2_uncal.fits&uri=mast:JWST/product/jw00772369001_0210j_00001_nrca3_uncal.fits&uri=mast:JWST/product/jw00772369001_0210j_00001_nrca4_uncal.fits&uri=mast:JWST/product/jw00772369001_0210j_00001_nrcalong_uncal.fits to mastDownload_20210512232212.sh ... [Done]\n"
     ]
    }
   ],
   "source": [
    "fetch_products(JwstObs, selected_products) "
   ]
  },
  {
   "cell_type": "markdown",
   "id": "naughty-italian",
   "metadata": {},
   "source": [
    "## Part 2 - Perform Photometry"
   ]
  },
  {
   "cell_type": "markdown",
   "id": "black-heating",
   "metadata": {},
   "source": [
    "This part follows the instructions originally provided in the package \"https://github.com/spacetelescope/nircam_calib/blob/master/nircam_calib/commissioning/utils/photometry.py\"\n",
    "by Bryan Hilbert"
   ]
  },
  {
   "cell_type": "markdown",
   "id": "sacred-latino",
   "metadata": {},
   "source": [
    "## Photomtry Function "
   ]
  },
  {
   "cell_type": "code",
   "execution_count": 13,
   "id": "compatible-equity",
   "metadata": {},
   "outputs": [],
   "source": [
    "#! /usr/bin/env python\n",
    "\n",
    "\"\"\"This module contains functions related to photometry that may be generally\n",
    "useful to analysis of multiple CARs\n",
    "\"\"\"\n",
    "from astropy.stats import sigma_clipped_stats\n",
    "from astropy.visualization import SqrtStretch\n",
    "from astropy.visualization.mpl_normalize import ImageNormalize\n",
    "import matplotlib.pyplot as plt\n",
    "import numpy as np\n",
    "from photutils import CircularAnnulus, CircularAperture, DAOStarFinder, aperture_photometry\n",
    "\n",
    "\n",
    "def do_photometry(image, source_table, aperture_radius=3, subtract_background=False, annulus_radii=(6, 8)):\n",
    "    \"\"\"Perform aperture photometry on the input data using the source\n",
    "    locations specified in the source_table\n",
    "    Parameters\n",
    "    ----------\n",
    "    image : numpy.ndarray\n",
    "        2D image\n",
    "    source_table : astropy.table.Table\n",
    "        Table of source locations (i.e. output from photutils's\n",
    "        DAOStarFinder)\n",
    "    subtract_background : bool\n",
    "        If True, use photutils to estimate and subtract background\n",
    "    Returns\n",
    "    -------\n",
    "    source_table : astropy.table.Table\n",
    "        Updated source_table including photometry results\n",
    "    \"\"\"\n",
    "    # Create list of tuples giving source locations\n",
    "    positions = [(tab['xcentroid'], tab['ycentroid']) for tab in source_table]\n",
    "    print(positions)\n",
    "\n",
    "    \"\"\n",
    "    apertures = CircularAperture(positions, r=aperture_radius)\n",
    "\n",
    "    # If background is to be subtracted, calculate the sigma-clipped median\n",
    "    # value of the pixels in the annuli around the sources\n",
    "    if subtract_background:\n",
    "        annulus_apertures = CircularAnnulus(positions, r_in=annulus_radii[0], r_out=annulus_radii[1])\n",
    "        annulus_masks = annulus_apertures.to_mask(method='center')\n",
    "\n",
    "        bkg_median = []\n",
    "        for mask in annulus_masks:\n",
    "            annulus_data = mask.multiply(image)\n",
    "            annulus_data_1d = annulus_data[mask.data > 0]\n",
    "            _, median_sigclip, _ = sigma_clipped_stats(annulus_data_1d)\n",
    "            bkg_median.append(median_sigclip)\n",
    "        bkg_median = np.array(bkg_median)\n",
    "\n",
    "    # Do the photometry and add to the input table\n",
    "    phot_table = aperture_photometry(image, apertures)\n",
    "    source_table['aperture_sum'] = phot_table['aperture_sum']\n",
    "\n",
    "    if subtract_background:\n",
    "        # Add columns with that background subtraction info\n",
    "        source_table['annulus_median'] = bkg_median\n",
    "        source_table['aper_bkg'] = bkg_median * apertures.area\n",
    "        source_table['aper_sum_bkgsub'] = source_table['aperture_sum'] - source_table['aper_bkg']\n",
    "    \"\"    \n",
    "    return source_table"
   ]
  },
  {
   "cell_type": "markdown",
   "id": "minute-saying",
   "metadata": {},
   "source": [
    "## Prepare the analysis"
   ]
  },
  {
   "cell_type": "markdown",
   "id": "direct-subscriber",
   "metadata": {},
   "source": [
    "a) estimate centroid of point source"
   ]
  },
  {
   "cell_type": "code",
   "execution_count": 14,
   "id": "black-stack",
   "metadata": {},
   "outputs": [],
   "source": [
    "image = 'jw00772368001_02102_00001_nrca1.fits'"
   ]
  },
  {
   "cell_type": "markdown",
   "id": "missing-highlight",
   "metadata": {},
   "source": [
    "and set the parameters of the measure. This is critical and possible source of discrepancy vs. IDT"
   ]
  },
  {
   "cell_type": "code",
   "execution_count": 15,
   "id": "amateur-typing",
   "metadata": {},
   "outputs": [],
   "source": [
    "id = [0]\n",
    "xc = [101.3]\n",
    "yc = [102.5]\n",
    "aper_radius = 3\n",
    "annul_radii = (6,8)"
   ]
  },
  {
   "cell_type": "markdown",
   "id": "hidden-newspaper",
   "metadata": {},
   "source": [
    "b) create astropy table for photometry routine by Bryan Hilbert"
   ]
  },
  {
   "cell_type": "code",
   "execution_count": 16,
   "id": "delayed-semiconductor",
   "metadata": {},
   "outputs": [],
   "source": [
    "from astropy.table import QTable\n",
    "source_table = QTable([id, xc, yc],\n",
    "                names=('id', 'xcentroid', 'ycentroid'),\n",
    "                meta={'name': 'photometry table'})"
   ]
  },
  {
   "cell_type": "code",
   "execution_count": 17,
   "id": "charged-carrier",
   "metadata": {},
   "outputs": [
    {
     "name": "stdout",
     "output_type": "stream",
     "text": [
      " id xcentroid ycentroid\n",
      "--- --------- ---------\n",
      "  0     101.3     102.5\n"
     ]
    }
   ],
   "source": [
    "print(source_table)"
   ]
  },
  {
   "cell_type": "markdown",
   "id": "enclosed-special",
   "metadata": {},
   "source": [
    "### Extract the photometry"
   ]
  },
  {
   "cell_type": "code",
   "execution_count": 18,
   "id": "capable-guinea",
   "metadata": {},
   "outputs": [
    {
     "name": "stdout",
     "output_type": "stream",
     "text": [
      "[(101.3, 102.5)]\n"
     ]
    },
    {
     "ename": "ValueError",
     "evalue": "data must be a 2D array.",
     "output_type": "error",
     "traceback": [
      "\u001b[0;31m---------------------------------------------------------------------------\u001b[0m",
      "\u001b[0;31mValueError\u001b[0m                                Traceback (most recent call last)",
      "\u001b[0;32m<ipython-input-18-63a61ad35836>\u001b[0m in \u001b[0;36m<module>\u001b[0;34m()\u001b[0m\n\u001b[0;32m----> 1\u001b[0;31m \u001b[0mdo_photometry\u001b[0m\u001b[0;34m(\u001b[0m\u001b[0mimage\u001b[0m\u001b[0;34m,\u001b[0m \u001b[0msource_table\u001b[0m\u001b[0;34m,\u001b[0m \u001b[0maperture_radius\u001b[0m\u001b[0;34m=\u001b[0m\u001b[0maper_radius\u001b[0m\u001b[0;34m,\u001b[0m \u001b[0msubtract_background\u001b[0m\u001b[0;34m=\u001b[0m\u001b[0;32mFalse\u001b[0m\u001b[0;34m,\u001b[0m \u001b[0mannulus_radii\u001b[0m\u001b[0;34m=\u001b[0m\u001b[0mannul_radii\u001b[0m\u001b[0;34m)\u001b[0m\u001b[0;34m\u001b[0m\u001b[0;34m\u001b[0m\u001b[0m\n\u001b[0m",
      "\u001b[0;32m<ipython-input-13-d1f1713e0a8a>\u001b[0m in \u001b[0;36mdo_photometry\u001b[0;34m(image, source_table, aperture_radius, subtract_background, annulus_radii)\u001b[0m\n\u001b[1;32m     51\u001b[0m \u001b[0;34m\u001b[0m\u001b[0m\n\u001b[1;32m     52\u001b[0m     \u001b[0;31m# Do the photometry and add to the input table\u001b[0m\u001b[0;34m\u001b[0m\u001b[0;34m\u001b[0m\u001b[0;34m\u001b[0m\u001b[0m\n\u001b[0;32m---> 53\u001b[0;31m     \u001b[0mphot_table\u001b[0m \u001b[0;34m=\u001b[0m \u001b[0maperture_photometry\u001b[0m\u001b[0;34m(\u001b[0m\u001b[0mimage\u001b[0m\u001b[0;34m,\u001b[0m \u001b[0mapertures\u001b[0m\u001b[0;34m)\u001b[0m\u001b[0;34m\u001b[0m\u001b[0;34m\u001b[0m\u001b[0m\n\u001b[0m\u001b[1;32m     54\u001b[0m     \u001b[0msource_table\u001b[0m\u001b[0;34m[\u001b[0m\u001b[0;34m'aperture_sum'\u001b[0m\u001b[0;34m]\u001b[0m \u001b[0;34m=\u001b[0m \u001b[0mphot_table\u001b[0m\u001b[0;34m[\u001b[0m\u001b[0;34m'aperture_sum'\u001b[0m\u001b[0;34m]\u001b[0m\u001b[0;34m\u001b[0m\u001b[0;34m\u001b[0m\u001b[0m\n\u001b[1;32m     55\u001b[0m \u001b[0;34m\u001b[0m\u001b[0m\n",
      "\u001b[0;32m/Users/robberto/miniconda3/lib/python3.6/site-packages/astropy/utils/decorators.py\u001b[0m in \u001b[0;36mwrapper\u001b[0;34m(*args, **kwargs)\u001b[0m\n\u001b[1;32m    533\u001b[0m                     \u001b[0mwarnings\u001b[0m\u001b[0;34m.\u001b[0m\u001b[0mwarn\u001b[0m\u001b[0;34m(\u001b[0m\u001b[0mmessage\u001b[0m\u001b[0;34m,\u001b[0m \u001b[0mwarning_type\u001b[0m\u001b[0;34m,\u001b[0m \u001b[0mstacklevel\u001b[0m\u001b[0;34m=\u001b[0m\u001b[0;36m2\u001b[0m\u001b[0;34m)\u001b[0m\u001b[0;34m\u001b[0m\u001b[0;34m\u001b[0m\u001b[0m\n\u001b[1;32m    534\u001b[0m \u001b[0;34m\u001b[0m\u001b[0m\n\u001b[0;32m--> 535\u001b[0;31m             \u001b[0;32mreturn\u001b[0m \u001b[0mfunction\u001b[0m\u001b[0;34m(\u001b[0m\u001b[0;34m*\u001b[0m\u001b[0margs\u001b[0m\u001b[0;34m,\u001b[0m \u001b[0;34m**\u001b[0m\u001b[0mkwargs\u001b[0m\u001b[0;34m)\u001b[0m\u001b[0;34m\u001b[0m\u001b[0;34m\u001b[0m\u001b[0m\n\u001b[0m\u001b[1;32m    536\u001b[0m \u001b[0;34m\u001b[0m\u001b[0m\n\u001b[1;32m    537\u001b[0m         \u001b[0;32mreturn\u001b[0m \u001b[0mwrapper\u001b[0m\u001b[0;34m\u001b[0m\u001b[0;34m\u001b[0m\u001b[0m\n",
      "\u001b[0;32m/Users/robberto/miniconda3/lib/python3.6/site-packages/photutils/aperture/photometry.py\u001b[0m in \u001b[0;36maperture_photometry\u001b[0;34m(data, apertures, error, mask, method, subpixels, unit, wcs)\u001b[0m\n\u001b[1;32m    192\u001b[0m \u001b[0;34m\u001b[0m\u001b[0m\n\u001b[1;32m    193\u001b[0m     \u001b[0;31m# validate inputs\u001b[0m\u001b[0;34m\u001b[0m\u001b[0;34m\u001b[0m\u001b[0;34m\u001b[0m\u001b[0m\n\u001b[0;32m--> 194\u001b[0;31m     \u001b[0mdata\u001b[0m\u001b[0;34m,\u001b[0m \u001b[0merror\u001b[0m \u001b[0;34m=\u001b[0m \u001b[0m_validate_inputs\u001b[0m\u001b[0;34m(\u001b[0m\u001b[0mdata\u001b[0m\u001b[0;34m,\u001b[0m \u001b[0merror\u001b[0m\u001b[0;34m)\u001b[0m\u001b[0;34m\u001b[0m\u001b[0;34m\u001b[0m\u001b[0m\n\u001b[0m\u001b[1;32m    195\u001b[0m \u001b[0;34m\u001b[0m\u001b[0m\n\u001b[1;32m    196\u001b[0m     \u001b[0;31m# handle data, error, and unit inputs\u001b[0m\u001b[0;34m\u001b[0m\u001b[0;34m\u001b[0m\u001b[0;34m\u001b[0m\u001b[0m\n",
      "\u001b[0;32m/Users/robberto/miniconda3/lib/python3.6/site-packages/photutils/aperture/_photometry_utils.py\u001b[0m in \u001b[0;36m_validate_inputs\u001b[0;34m(data, error)\u001b[0m\n\u001b[1;32m     86\u001b[0m     \u001b[0mdata\u001b[0m \u001b[0;34m=\u001b[0m \u001b[0mnp\u001b[0m\u001b[0;34m.\u001b[0m\u001b[0masanyarray\u001b[0m\u001b[0;34m(\u001b[0m\u001b[0mdata\u001b[0m\u001b[0;34m)\u001b[0m\u001b[0;34m\u001b[0m\u001b[0;34m\u001b[0m\u001b[0m\n\u001b[1;32m     87\u001b[0m     \u001b[0;32mif\u001b[0m \u001b[0mdata\u001b[0m\u001b[0;34m.\u001b[0m\u001b[0mndim\u001b[0m \u001b[0;34m!=\u001b[0m \u001b[0;36m2\u001b[0m\u001b[0;34m:\u001b[0m\u001b[0;34m\u001b[0m\u001b[0;34m\u001b[0m\u001b[0m\n\u001b[0;32m---> 88\u001b[0;31m         \u001b[0;32mraise\u001b[0m \u001b[0mValueError\u001b[0m\u001b[0;34m(\u001b[0m\u001b[0;34m'data must be a 2D array.'\u001b[0m\u001b[0;34m)\u001b[0m\u001b[0;34m\u001b[0m\u001b[0;34m\u001b[0m\u001b[0m\n\u001b[0m\u001b[1;32m     89\u001b[0m \u001b[0;34m\u001b[0m\u001b[0m\n\u001b[1;32m     90\u001b[0m     \u001b[0;32mif\u001b[0m \u001b[0merror\u001b[0m \u001b[0;32mis\u001b[0m \u001b[0;32mnot\u001b[0m \u001b[0;32mNone\u001b[0m\u001b[0;34m:\u001b[0m\u001b[0;34m\u001b[0m\u001b[0;34m\u001b[0m\u001b[0m\n",
      "\u001b[0;31mValueError\u001b[0m: data must be a 2D array."
     ]
    }
   ],
   "source": [
    "do_photometry(image, source_table, aperture_radius=aper_radius, subtract_background=False, annulus_radii=annul_radii)"
   ]
  },
  {
   "cell_type": "markdown",
   "id": "tribal-harbor",
   "metadata": {},
   "source": [
    "# Part 3 - Determine the Zero Point (based on B. Hilbert report)"
   ]
  },
  {
   "cell_type": "raw",
   "id": "going-contest",
   "metadata": {},
   "source": [
    "Here we need to run synphot on the synthetic spectrum of the source to extract the Jy in the filter."
   ]
  },
  {
   "cell_type": "code",
   "execution_count": 21,
   "id": "mechanical-officer",
   "metadata": {},
   "outputs": [
    {
     "ename": "SyntaxError",
     "evalue": "invalid character in identifier (<ipython-input-21-895ee78e9d6c>, line 11)",
     "output_type": "error",
     "traceback": [
      "\u001b[0;36m  File \u001b[0;32m\"<ipython-input-21-895ee78e9d6c>\"\u001b[0;36m, line \u001b[0;32m11\u001b[0m\n\u001b[0;31m    tfile = ‘jwst_nircam_f356w_moda_trans.fits’\u001b[0m\n\u001b[0m                                        ^\u001b[0m\n\u001b[0;31mSyntaxError\u001b[0m\u001b[0;31m:\u001b[0m invalid character in identifier\n"
     ]
    }
   ],
   "source": [
    "import stsynphot as STS\n",
    "from synphot import SpectralElement, Observation\n",
    "\n",
    "# Set JWST primary mirror area\n",
    "area = 253260. #25.326 m^2\n",
    "STS.conf.area = area\n",
    "\n",
    "# File containing PCE curve => NOT THE VERSION DOWNLOADED FROM THE ZIP FILES AT\n",
    "#https://jwst-docs.stsci.edu/near-infrared-camera/nircam-instrumentation/nircam-filters#NIRCamFilters-Filterlists\n",
    "# to be clarified\n",
    "tfile = ‘jwst_nircam_f356w_moda_trans.fits’\n",
    "\n",
    "# Create a bandpass object\n",
    "bp = SpectralElement.from_file(tfile)\n",
    "\n",
    "# Load Vega spectrum => OR PRIMARY CALIBRATOR, TO BE PROVIDED BY CALWG\n",
    "vega = SourceSpectrum.from_vega()\n",
    "# Now reduce the PCE curve by a factor equal to\n",
    "# the gain, in order to get the output to translate\n",
    "# from ADU/sec rather than e/sec\n",
    "\n",
    "#to be completed...\n",
    "\n",
    "gainval = 2.493 #e-/ADU\n",
    "\n",
    "bp.model.lookup_table = bp.model.lookup_table / gainval\n",
    "\n",
    "# Calculate PHOTFLAM, PHOTFNU and pivot wavelength\n",
    "photflam = bp.unit_response(jwst_area)\n",
    "photplam = bp.pivot()\n",
    "photfnu = units.convert_flux(photplam, photflam, units.FNU)\n",
    "\n",
    "# Calculate ST and AB magnitude zeropoints\n",
    "st_zpt = -2.5 * np.log10(photflam.value) - 21.1\n",
    "ab_zpt = (-2.5 * np.log10(photflam.value) - 21.1 - 5 *\n",
    "np.log10(photplam.value) + 18.6921)\n",
    "\n",
    "# Use Vega spectrum to calculate VEGAMAG zeropoint\n",
    "obs = Observation(vega, bp, binset=my_bins)\n",
    "vega_zpt = -obs.effstim(flux_unit='obmag', area=jwst_area)"
   ]
  },
  {
   "cell_type": "code",
   "execution_count": null,
   "id": "related-cheese",
   "metadata": {},
   "outputs": [],
   "source": []
  }
 ],
 "metadata": {
  "kernelspec": {
   "display_name": "Python 3",
   "language": "python",
   "name": "python3"
  },
  "language_info": {
   "codemirror_mode": {
    "name": "ipython",
    "version": 3
   },
   "file_extension": ".py",
   "mimetype": "text/x-python",
   "name": "python",
   "nbconvert_exporter": "python",
   "pygments_lexer": "ipython3",
   "version": "3.6.13"
  }
 },
 "nbformat": 4,
 "nbformat_minor": 5
}
