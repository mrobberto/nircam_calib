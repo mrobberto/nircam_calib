{
 "cells": [
  {
   "cell_type": "code",
   "execution_count": 1,
   "id": "a9fe4ac5",
   "metadata": {},
   "outputs": [],
   "source": [
    "import os\n",
    "from os import listdir\n",
    "import numpy as np\n",
    "import synphot as S\n",
    "from synphot import SourceSpectrum\n",
    "from synphot import SpectralElement,Observation,units\n",
    "from synphot.models import Empirical1D\n",
    "import astropy.units as u\n",
    "from synphot import Observation,units"
   ]
  },
  {
   "cell_type": "code",
   "execution_count": 2,
   "id": "2a92c659",
   "metadata": {},
   "outputs": [],
   "source": [
    "path_StandardStars = \"/Users/robberto/Box/@Massimo/_Functional/2021.CAP29/StandardStars/\""
   ]
  },
  {
   "cell_type": "markdown",
   "id": "a37ff967",
   "metadata": {},
   "source": [
    "## P330E"
   ]
  },
  {
   "cell_type": "code",
   "execution_count": 3,
   "id": "797469c7",
   "metadata": {},
   "outputs": [],
   "source": [
    "P330e_file = path_StandardStars + \"p330e_mod_004.fits\""
   ]
  },
  {
   "cell_type": "code",
   "execution_count": 4,
   "id": "1aab495e",
   "metadata": {},
   "outputs": [
    {
     "data": {
      "image/png": "[encoded data removed]",
      "text/plain": [
       "<Figure size 432x288 with 1 Axes>"
      ]
     },
     "metadata": {
      "needs_background": "light"
     },
     "output_type": "display_data"
    }
   ],
   "source": [
    "sp = SourceSpectrum.from_file(P330e_file)\n",
    "sp.plot(left=1000, right=55000)"
   ]
  },
  {
   "cell_type": "code",
   "execution_count": 5,
   "id": "7ddaa6ef",
   "metadata": {},
   "outputs": [
    {
     "data": {
      "image/png": "[encoded data removed]",
      "text/plain": [
       "<Figure size 432x288 with 1 Axes>"
      ]
     },
     "metadata": {
      "needs_background": "light"
     },
     "output_type": "display_data"
    }
   ],
   "source": [
    "vega = SourceSpectrum.from_vega()\n",
    "vega.plot(left=1000, right=55000)"
   ]
  },
  {
   "cell_type": "markdown",
   "id": "1950cfe1",
   "metadata": {},
   "source": [
    "# General loop"
   ]
  },
  {
   "cell_type": "code",
   "execution_count": 6,
   "id": "b4c2e250",
   "metadata": {},
   "outputs": [],
   "source": [
    "from os import listdir\n",
    "\n",
    "filters_directory = \"/Users/robberto/Box/@Massimo/_Functional/2021.CAP29/nircam_throughputs/modB/nrc_plus_ote\"\n",
    "files_dir =  listdir(filters_directory)\n",
    "filter_file = []\n",
    "filters = []\n",
    "for names in files_dir:\n",
    "    if names.endswith(\"sorted.txt\"):\n",
    "        filter_file.append(names)\n",
    "        filters.append(names[0:5])        \n",
    "#print(filter_file,filters)"
   ]
  },
  {
   "cell_type": "code",
   "execution_count": 7,
   "id": "2f340445",
   "metadata": {},
   "outputs": [
    {
     "name": "stdout",
     "output_type": "stream",
     "text": [
      "F070W 503824.06 ct  VegaMag =  12.4548\n",
      "pivot wl: 7019.14 Angstrom    effective wl: 7035.79 Angstrom\n",
      "F090W 808444.79 ct  VegaMag =  12.1583\n",
      "pivot wl: 8974.52 Angstrom    effective wl: 8995.51 Angstrom\n",
      "F115W 867311.68 ct  VegaMag =  11.902\n",
      "pivot wl: 11482.15 Angstrom    effective wl: 11509.83 Angstrom\n",
      "F140M 477235.72 ct  VegaMag =  11.6165\n",
      "pivot wl: 14028.62 Angstrom    effective wl: 14035.78 Angstrom\n",
      "F150W 3260433.95 ct  VegaMag =  11.6389\n",
      "pivot wl: 15035.82 Angstrom    effective wl: 15447.78 Angstrom\n",
      "F150W 1020601.2 ct  VegaMag =  11.5445\n",
      "pivot wl: 14917.33 Angstrom    effective wl: 14949.6 Angstrom\n",
      "F162M 462122.25 ct  VegaMag =  11.4524\n",
      "pivot wl: 16239.09 Angstrom    effective wl: 16247.11 Angstrom\n",
      "F164N 52750.79 ct  VegaMag =  11.4219\n",
      "pivot wl: 16443.55 Angstrom    effective wl: 16443.82 Angstrom\n",
      "F182M 529128.47 ct  VegaMag =  11.4314\n",
      "pivot wl: 18376.44 Angstrom    effective wl: 18390.66 Angstrom\n",
      "F187N 46604.14 ct  VegaMag =  11.4148\n",
      "pivot wl: 18738.57 Angstrom    effective wl: 18738.95 Angstrom\n",
      "F200W 871112.41 ct  VegaMag =  11.4247\n",
      "pivot wl: 19646.43 Angstrom    effective wl: 19693.62 Angstrom\n",
      "F210M 334807.73 ct  VegaMag =  11.4143\n",
      "pivot wl: 20906.68 Angstrom    effective wl: 20915.76 Angstrom\n",
      "F212N 42739.49 ct  VegaMag =  11.4157\n",
      "pivot wl: 21200.7 Angstrom    effective wl: 21202.07 Angstrom\n",
      "F250M 143142.2 ct  VegaMag =  11.4025\n",
      "pivot wl: 24997.72 Angstrom    effective wl: 25002.81 Angstrom\n",
      "F277W 426766.9 ct  VegaMag =  11.3938\n",
      "pivot wl: 27358.17 Angstrom    effective wl: 27429.2 Angstrom\n",
      "F300M 154827.04 ct  VegaMag =  11.3918\n",
      "pivot wl: 29805.49 Angstrom    effective wl: 29822.15 Angstrom\n",
      "F322W 788468.04 ct  VegaMag =  11.3926\n",
      "pivot wl: 30396.18 Angstrom    effective wl: 30734.13 Angstrom\n",
      "F323N 12673.89 ct  VegaMag =  11.395\n",
      "pivot wl: 32371.67 Angstrom    effective wl: 32372.07 Angstrom\n",
      "F335M 142687.15 ct  VegaMag =  11.3901\n",
      "pivot wl: 33573.38 Angstrom    effective wl: 33590.52 Angstrom\n",
      "F356W 326729.2 ct  VegaMag =  11.3906\n",
      "pivot wl: 35226.29 Angstrom    effective wl: 35313.88 Angstrom\n",
      "F360M 138526.98 ct  VegaMag =  11.3889\n",
      "pivot wl: 36130.16 Angstrom    effective wl: 36148.66 Angstrom\n",
      "F405N 11136.44 ct  VegaMag =  11.372\n",
      "pivot wl: 40526.88 Angstrom    effective wl: 40525.63 Angstrom\n",
      "F410M 117645.9 ct  VegaMag =  11.3881\n",
      "pivot wl: 40817.18 Angstrom    effective wl: 40831.11 Angstrom\n",
      "F430M 55703.79 ct  VegaMag =  11.3915\n",
      "pivot wl: 42765.47 Angstrom    effective wl: 42770.24 Angstrom\n",
      "F444W 246503.37 ct  VegaMag =  11.3979\n",
      "pivot wl: 45717.67 Angstrom    effective wl: 43728.29 Angstrom\n",
      "F460M 37082.04 ct  VegaMag =  11.4076\n",
      "pivot wl: 46210.02 Angstrom    effective wl: 46218.09 Angstrom\n",
      "F466N 6622.16 ct  VegaMag =  11.3785\n",
      "pivot wl: 46543.37 Angstrom    effective wl: 46543.73 Angstrom\n",
      "F470N 5761.46 ct  VegaMag =  11.4042\n",
      "pivot wl: 47070.47 Angstrom    effective wl: 47070.83 Angstrom\n",
      "F480M 48601.94 ct  VegaMag =  11.4049\n",
      "pivot wl: 50515.89 Angstrom    effective wl: 48327.96 Angstrom\n"
     ]
    }
   ],
   "source": [
    "for i in range(len(filters)):\n",
    "    bp = SpectralElement.from_file(filters_directory+'/'+filter_file[i])\n",
    "    bp.waveset.to(u.micron)\n",
    "    #convoluted way to change the wl units from micron to A. There must be an easier way!\n",
    "    wl = bp.waveset * 1E4\n",
    "    th = bp.model.lookup_table\n",
    "    Filter = SpectralElement(Empirical1D, points=wl, lookup_table=th, keep_neg=True)\n",
    "\n",
    "#    Filter.plot(left=1000, right=55000)\n",
    "\n",
    "    area = 25*1E4 * units.AREA\n",
    "    binset = range(5000, 55001)\n",
    "\n",
    "    obs_P330e_Filter = Observation(sp, Filter, binset=binset)\n",
    "    binflux = obs_P330e_Filter.sample_binned(flux_unit='count', area=area)\n",
    "    # Sample the \"native\" flux for comparison\n",
    "    flux = obs_P330e_Filter(binset, flux_unit='count', area=area)\n",
    "    flux_sum = flux.sum()\n",
    "#    print(flux_sum)\n",
    "\n",
    "    obs_vega_Filter = Observation(vega, Filter, binset=binset)\n",
    "    binflux = obs_vega_Filter.sample_binned(flux_unit='count', area=area)\n",
    "    # Sample the \"native\" flux for comparison\n",
    "    flux_Vega = obs_vega_Filter(binset, flux_unit='count', area=area)\n",
    "    flux_Vega_sum = flux_Vega.sum()\n",
    "\n",
    "    mag_P330e_Filter = -2.5 * np.log10(flux_sum/flux_Vega_sum)\n",
    "    print(filters[i],np.round(flux_sum,2),' VegaMag = ',np.round(mag_P330e_Filter,4))\n",
    "    \n",
    "#Other parameters\n",
    "    print(\"pivot wl:\",np.round(obs_P330e_Filter.pivot(),2),\"   effective wl:\",np.round(obs_P330e_Filter.effective_wavelength(),2))"
   ]
  },
  {
   "cell_type": "markdown",
   "id": "beca12cf",
   "metadata": {},
   "source": [
    "# 177D"
   ]
  },
  {
   "cell_type": "code",
   "execution_count": null,
   "id": "129451e4",
   "metadata": {},
   "outputs": [
    {
     "name": "stdout",
     "output_type": "stream",
     "text": [
      "F070W 327356.08 ct  VegaMag =  12.9229\n",
      "pivot wl: 7019.51 Angstrom    effective wl: 7036.17 Angstrom\n",
      "F090W 527858.99 ct  VegaMag =  12.6212\n",
      "pivot wl: 8976.25 Angstrom    effective wl: 8997.25 Angstrom\n",
      "F115W 569902.62 ct  VegaMag =  12.358\n",
      "pivot wl: 11482.39 Angstrom    effective wl: 11510.07 Angstrom\n",
      "F140M 312668.43 ct  VegaMag =  12.0756\n",
      "pivot wl: 14028.16 Angstrom    effective wl: 14035.32 Angstrom\n",
      "F150W 2136600.44 ct  VegaMag =  12.0978\n",
      "pivot wl: 15031.33 Angstrom    effective wl: 15443.6 Angstrom\n",
      "F150W 667250.92 ct  VegaMag =  12.006\n",
      "pivot wl: 14914.81 Angstrom    effective wl: 14947.07 Angstrom\n",
      "F162M 300717.1 ct  VegaMag =  11.9189\n",
      "pivot wl: 16239.53 Angstrom    effective wl: 16247.56 Angstrom\n",
      "F164N 34237.45 ct  VegaMag =  11.8912\n",
      "pivot wl: 16443.86 Angstrom    effective wl: 16444.13 Angstrom\n",
      "F182M 345877.61 ct  VegaMag =  11.893\n",
      "pivot wl: 18377.59 Angstrom    effective wl: 18391.81 Angstrom\n",
      "F187N 30498.87 ct  VegaMag =  11.8751\n",
      "pivot wl: 18738.45 Angstrom    effective wl: 18738.83 Angstrom\n",
      "F200W 570657.21 ct  VegaMag =  11.884\n",
      "pivot wl: 19648.31 Angstrom    effective wl: 19695.49 Angstrom\n",
      "F210M 219562.42 ct  VegaMag =  11.8724\n",
      "pivot wl: 20906.48 Angstrom    effective wl: 20915.56 Angstrom\n",
      "F212N 28003.99 ct  VegaMag =  11.8748\n",
      "pivot wl: 21200.71 Angstrom    effective wl: 21202.07 Angstrom\n",
      "F250M 93687.71 ct  VegaMag =  11.8627\n",
      "pivot wl: 24997.4 Angstrom    effective wl: 25002.48 Angstrom\n",
      "F277W 279759.42 ct  VegaMag =  11.8523\n",
      "pivot wl: 27360.29 Angstrom    effective wl: 27431.36 Angstrom\n",
      "F300M 101642.76 ct  VegaMag =  11.8488\n",
      "pivot wl: 29806.05 Angstrom    effective wl: 29822.71 Angstrom\n",
      "F322W 517434.42 ct  VegaMag =  11.85\n",
      "pivot wl: 30402.66 Angstrom    effective wl: 30740.66 Angstrom\n",
      "F323N 8329.03 ct  VegaMag =  11.8508\n",
      "pivot wl: 32371.71 Angstrom    effective wl: 32372.1 Angstrom\n",
      "F335M 93776.48 ct  VegaMag =  11.8458\n",
      "pivot wl: 33573.71 Angstrom    effective wl: 33590.84 Angstrom\n"
     ]
    }
   ],
   "source": [
    "P177d_file = path_StandardStars + \"p177d_mod_003.fits\"\n",
    "\n",
    "sp = SourceSpectrum.from_file(P177d_file)\n",
    "sp.plot(left=1000, right=55000)\n",
    "\n",
    "for i in range(len(filters)):\n",
    "    bp = SpectralElement.from_file(filters_directory+'/'+filter_file[i])\n",
    "    bp.waveset.to(u.micron)\n",
    "    #convoluted way to change the wl units from micron to A. There must be an easier way!\n",
    "    wl = bp.waveset * 1E4\n",
    "    th = bp.model.lookup_table\n",
    "    Filter = SpectralElement(Empirical1D, points=wl, lookup_table=th, keep_neg=True)\n",
    "\n",
    "    obs_P330e_Filter = Observation(sp, Filter, binset=binset)\n",
    "    binflux = obs_P330e_Filter.sample_binned(flux_unit='count', area=area)\n",
    "    # Sample the \"native\" flux for comparison\n",
    "    flux = obs_P330e_Filter(binset, flux_unit='count', area=area)\n",
    "    flux_sum = flux.sum()\n",
    "\n",
    "    obs_vega_Filter = Observation(vega, Filter, binset=binset)\n",
    "    binflux = obs_vega_Filter.sample_binned(flux_unit='count', area=area)\n",
    "    # Sample the \"native\" flux for comparison\n",
    "    flux_Vega = obs_vega_Filter(binset, flux_unit='count', area=area)\n",
    "    flux_Vega_sum = flux_Vega.sum()\n",
    "\n",
    "    mag_P330e_Filter = -2.5 * np.log10(flux_sum/flux_Vega_sum)\n",
    "    print(filters[i],np.round(flux_sum,2),' VegaMag = ',np.round(mag_P330e_Filter,4))\n",
    "    \n",
    "#Other parameters\n",
    "    print(\"pivot wl:\",np.round(obs_P330e_Filter.pivot(),2),\"   effective wl:\",np.round(obs_P330e_Filter.effective_wavelength(),2))"
   ]
  },
  {
   "cell_type": "code",
   "execution_count": null,
   "id": "3415581a",
   "metadata": {},
   "outputs": [],
   "source": []
  }
 ],
 "metadata": {
  "kernelspec": {
   "display_name": "Python 3 (ipykernel)",
   "language": "python",
   "name": "python3"
  },
  "language_info": {
   "codemirror_mode": {
    "name": "ipython",
    "version": 3
   },
   "file_extension": ".py",
   "mimetype": "text/x-python",
   "name": "python",
   "nbconvert_exporter": "python",
   "pygments_lexer": "ipython3",
   "version": "3.9.5"
  }
 },
 "nbformat": 4,
 "nbformat_minor": 5
}
